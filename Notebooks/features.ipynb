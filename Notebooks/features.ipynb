{
 "cells": [
  {
   "cell_type": "markdown",
   "metadata": {},
   "source": [
    "# <span style=\"color:#0F19C9\">Contents</span>\n",
    "\n",
    "- [Introduction](#introduction)\n",
    "- [Importing and loading data](#importing-and-loading-data)\n",
    "- [Create main dataframe](#create-main-dataframe)\n",
    "- [Finalizing](#finalizing)"
   ]
  },
  {
   "cell_type": "markdown",
   "metadata": {},
   "source": [
    "# <span style=\"color:#0F19C9\">Introduction</span>\n",
    "\n",
    "We have one notebook call `EDA.ipynb`, in it, you can find all the exploration and different plots with context of data. Now is moment to focus on building a machine learning model that helps us to predict the future orders of some users from new columns that we are going to create. The way we fill do it will be creating one dataframe merging all the information to train the model.\n",
    "\n",
    "One of the goals of the project is going to be better with resource management, mainly memory, because we have to need a lot of it."
   ]
  },
  {
   "cell_type": "markdown",
   "metadata": {},
   "source": [
    "# <span style=\"color:#0F19C9\">Importing and loading data</span>"
   ]
  },
  {
   "cell_type": "code",
   "execution_count": 50,
   "metadata": {},
   "outputs": [],
   "source": [
    "import pandas as pd\n",
    "import numpy as np\n",
    "import os\n",
    "\n",
    "import matplotlib.pyplot as plt\n",
    "from matplotlib.colors import LinearSegmentedColormap"
   ]
  },
  {
   "cell_type": "code",
   "execution_count": 51,
   "metadata": {},
   "outputs": [],
   "source": [
    "# Import original data from Instacart\n",
    "folder = '../Data/Raw/'\n",
    "files = [file for file in os.listdir(folder)]\n",
    "dfs = {}\n",
    "\n",
    "for dataframe in files:\n",
    "    path = folder + dataframe\n",
    "    df_name = dataframe.split('.')[0].title()\n",
    "    dfs[df_name] = pd.read_csv(path)\n",
    "\n",
    "# Delete temporal variables\n",
    "del [folder, files, path, df_name, dataframe]"
   ]
  },
  {
   "cell_type": "code",
   "execution_count": 52,
   "metadata": {},
   "outputs": [],
   "source": [
    "# Merge splitted dataframes\n",
    "dfs['Orders'] = pd.concat(\n",
    "    [dfs['Orders_1'], dfs['Orders_2']], ignore_index=True)\n",
    "to_concat = [dfs[f'Orders_Products__Prior_{i}'] for i in range(1, 18)]\n",
    "dfs['Orders_Products_Prior'] = pd.concat(to_concat,\n",
    "                                         ignore_index=True)\n",
    "\n",
    "# Format column names\n",
    "for dataframe in dfs.values():\n",
    "    dataframe.columns = [column.title() for column in dataframe.columns]\n",
    "\n",
    "# Delete temporals\n",
    "del [dfs['Orders_1'], dfs['Orders_2']]\n",
    "for i in range(1, 18):\n",
    "    del dfs[f'Orders_Products__Prior_{i}']\n",
    "del [to_concat, dataframe]"
   ]
  },
  {
   "cell_type": "markdown",
   "metadata": {},
   "source": [
    "# <span style=\"color:#0F19C9\">Create main dataframe</span>\n",
    "\n",
    "We import all of our raw data, we have not change anything from the original yet. The main idea is to create all the features about an user and the different products that consumes. The features we are going to create are:\n",
    "\n",
    "- **Times_Bought:** Number of times an user bought a product\n",
    "- **One_Shot_Ratio_Product:** Products bought just one time divided by the number of users who bought it.\n",
    "- **Times_In_Last_5:** Number of times the product was bought in last 5 orders.\n",
    "- **Times_In_Last_5_Ratio:** Number of times the product was bought per order in last 5 orders.\n",
    "- **Total_Orders:** Number of total orders of the user.\n",
    "- **First_Ordered:** First number of order of user per product.\n",
    "- **Ordered_Range:** Range of order numbers that user ordered the product.\n",
    "- **Order_Ratio:** Times this product was bought in the range of ordered since first bought of this product until last time it was bought.\n",
    "- **Average_Reordered:** Mean of a product reordered.\n",
    "- **Avg_To_Cart:** Mean of product order to add to cart.\n",
    "- **Avg_Order_Size:** Average amount of products per order."
   ]
  },
  {
   "cell_type": "code",
   "execution_count": 53,
   "metadata": {},
   "outputs": [],
   "source": [
    "# Create de main dataframe 'df'\n",
    "df_pivot = dfs['Orders'].merge(dfs['Orders_Products_Prior'],\n",
    "                               on='Order_Id',\n",
    "                               how='left')\n",
    "df = df_pivot.copy()"
   ]
  },
  {
   "cell_type": "code",
   "execution_count": 54,
   "metadata": {},
   "outputs": [],
   "source": [
    "# Count all the times an user bought a product\n",
    "df = df.groupby(['User_Id', 'Product_Id'])[['Order_Id']] \\\n",
    "    .count()\n",
    "df.columns = ['Times_Bought']\n",
    "df.reset_index(inplace=True)\n",
    "\n",
    "# Create products bought one time\n",
    "\n",
    "bought_one_time = df[df['Times_Bought'] == 1] \\\n",
    "    .groupby('Product_Id')[['Times_Bought']] \\\n",
    "    .count()\n",
    "bought_one_time.columns = ['Bought_One_Time']\n",
    "\n",
    "\n",
    "# Count the number of users for each one time product\n",
    "\n",
    "users_that_bought = df.groupby('Product_Id')[['User_Id']] \\\n",
    "    .count()\n",
    "users_that_bought.columns = ['Users_That_Bought']\n",
    "\n",
    "# Create new feature column\n",
    "new_feature = bought_one_time.merge(users_that_bought,\n",
    "                                    how='left',\n",
    "                                    on='Product_Id')\n",
    "new_feature['One_Shot_Ratio_Product'] = new_feature['Bought_One_Time'] / \\\n",
    "    new_feature['Users_That_Bought']\n",
    "new_feature = new_feature.reset_index()\n",
    "\n",
    "# Add to main dataframe\n",
    "df = df.merge(new_feature[['Product_Id', 'One_Shot_Ratio_Product']],\n",
    "              how='left',\n",
    "              on='Product_Id')\n",
    "\n",
    "# Delete temporal variables\n",
    "del [bought_one_time, users_that_bought]"
   ]
  },
  {
   "cell_type": "code",
   "execution_count": 55,
   "metadata": {},
   "outputs": [],
   "source": [
    "# Get the 'Order Number Back'\n",
    "new_pivot = df_pivot.copy()\n",
    "new_pivot['Order_Number_Back'] = new_pivot \\\n",
    "    .groupby('User_Id')['Order_Number'] \\\n",
    "    .transform('max') - new_pivot['Order_Number'] + 1\n",
    "\n",
    "# Filter only last 5 orders\n",
    "new_pivot = new_pivot[new_pivot['Order_Number_Back'] <= 5]\n",
    "new_pivot = new_pivot.groupby(['User_Id', 'Product_Id'])[['Order_Id']].count()\n",
    "new_pivot.columns = ['Times_In_Last_5']\n",
    "new_pivot['Times_In_Last_5_Ratio'] = new_pivot['Times_In_Last_5'] / 5\n",
    "\n",
    "# Merge new columns\n",
    "df = df.merge(new_pivot,\n",
    "              on=['User_Id', 'Product_Id'],\n",
    "              how='left')"
   ]
  },
  {
   "cell_type": "code",
   "execution_count": 56,
   "metadata": {},
   "outputs": [],
   "source": [
    "# Create columns\n",
    "new_pivot = df_pivot.copy()\n",
    "total_orders = new_pivot \\\n",
    "    .groupby('User_Id')[['Order_Number']].max()\n",
    "total_orders.columns = ['Total_Orders']\n",
    "\n",
    "first_order = new_pivot \\\n",
    "    .groupby(['User_Id', 'Product_Id'])[['Order_Number']] \\\n",
    "    .min()\n",
    "first_order.columns = ['First_Ordered']\n",
    "first_order.reset_index(inplace=True)\n",
    "\n",
    "times = new_pivot.groupby(['User_Id', 'Product_Id'])[['Order_Id']].count()\n",
    "times.columns = ['Times_Bought']\n",
    "\n",
    "# Merge columns\n",
    "span = pd.merge(total_orders, first_order,\n",
    "                on='User_Id',\n",
    "                how='right')\n",
    "span['Ordered_Range'] = span['Total_Orders'] - span['First_Ordered'] + 1\n",
    "new_feature = pd.merge(times, span,\n",
    "                       on=['User_Id', 'Product_Id'],\n",
    "                       how='left')\n",
    "new_feature['Order_Ratio'] = new_feature['Times_Bought'] / \\\n",
    "    new_feature['Ordered_Range']\n",
    "new_feature.drop('Times_Bought', axis=1, inplace=True)\n",
    "\n",
    "# Add new features\n",
    "df = df.merge(new_feature,\n",
    "              on=['User_Id', 'Product_Id'],\n",
    "              how='left')"
   ]
  },
  {
   "cell_type": "code",
   "execution_count": 57,
   "metadata": {},
   "outputs": [],
   "source": [
    "# Create de columns of Average_Reordered and Avg_To_Cart\n",
    "new_pivot = df_pivot.copy()\n",
    "new_pivot = new_pivot.groupby('Product_Id')[['Reordered']].mean()\n",
    "new_pivot.columns = ['Avg_Reordered']\n",
    "new_pivot['Avg_To_Cart'] = df_pivot.groupby(\n",
    "    'Product_Id')[['Add_To_Cart_Order']].mean()\n",
    "\n",
    "# Add new two columns to main dataframe\n",
    "df = df.merge(new_pivot,\n",
    "              on='Product_Id',\n",
    "              how='left')\n",
    "\n",
    "del [first_order,\n",
    "     span,\n",
    "     times,\n",
    "     total_orders]"
   ]
  },
  {
   "cell_type": "code",
   "execution_count": 58,
   "metadata": {},
   "outputs": [],
   "source": [
    "# Create feature 'Avg Order Size'\n",
    "new_pivot = df_pivot.copy()\n",
    "new_pivot = new_pivot.groupby(['User_Id', 'Order_Id'])[['Product_Id']].count()\n",
    "new_pivot.columns = ['Size']\n",
    "new_pivot.reset_index(inplace=True)\n",
    "\n",
    "new_pivot = new_pivot.groupby('User_Id')[['Size']].mean()\n",
    "new_pivot.columns = ['Avg_Order_Size']\n",
    "new_pivot.reset_index(inplace=True)\n",
    "\n",
    "# Add new feature\n",
    "df = df.merge(new_pivot,\n",
    "              on='User_Id',\n",
    "              how='left')"
   ]
  },
  {
   "cell_type": "markdown",
   "metadata": {},
   "source": [
    "# <span style=\"color:#0F19C9\">Finalizing</span>\n",
    "\n",
    "We are going to understand the info of our final dataframe and fill the null values. We ended with a dataframe of just numbers in every column, ideal to train a machine learning model. We have a dataframe of 13'307.953 rows with 13 columns to train the model.\n",
    "\n",
    "Finally we have to divide the main dataframe to upload to repo without problems."
   ]
  },
  {
   "cell_type": "code",
   "execution_count": 59,
   "metadata": {},
   "outputs": [
    {
     "name": "stdout",
     "output_type": "stream",
     "text": [
      "<class 'pandas.core.frame.DataFrame'>\n",
      "RangeIndex: 13307953 entries, 0 to 13307952\n",
      "Data columns (total 13 columns):\n",
      " #   Column                  Dtype  \n",
      "---  ------                  -----  \n",
      " 0   User_Id                 int64  \n",
      " 1   Product_Id              float64\n",
      " 2   Times_Bought            int64  \n",
      " 3   One_Shot_Ratio_Product  float64\n",
      " 4   Times_In_Last_5         float64\n",
      " 5   Times_In_Last_5_Ratio   float64\n",
      " 6   Total_Orders            int64  \n",
      " 7   First_Ordered           int64  \n",
      " 8   Ordered_Range           int64  \n",
      " 9   Order_Ratio             float64\n",
      " 10  Avg_Reordered           float64\n",
      " 11  Avg_To_Cart             float64\n",
      " 12  Avg_Order_Size          float64\n",
      "dtypes: float64(8), int64(5)\n",
      "memory usage: 1.3 GB\n"
     ]
    }
   ],
   "source": [
    "# Write general info of the main dataframe\n",
    "df.info()"
   ]
  },
  {
   "cell_type": "code",
   "execution_count": 60,
   "metadata": {},
   "outputs": [],
   "source": [
    "# Fill values with 0\n",
    "df.fillna(0, inplace=True)"
   ]
  },
  {
   "cell_type": "code",
   "execution_count": 61,
   "metadata": {},
   "outputs": [
    {
     "data": {
      "text/plain": [
       "0"
      ]
     },
     "execution_count": 61,
     "metadata": {},
     "output_type": "execute_result"
    }
   ],
   "source": [
    "# Search for duplicated values\n",
    "df.duplicated().sum()"
   ]
  },
  {
   "cell_type": "code",
   "execution_count": 62,
   "metadata": {},
   "outputs": [
    {
     "data": {
      "text/html": [
       "<div>\n",
       "<style scoped>\n",
       "    .dataframe tbody tr th:only-of-type {\n",
       "        vertical-align: middle;\n",
       "    }\n",
       "\n",
       "    .dataframe tbody tr th {\n",
       "        vertical-align: top;\n",
       "    }\n",
       "\n",
       "    .dataframe thead th {\n",
       "        text-align: right;\n",
       "    }\n",
       "</style>\n",
       "<table border=\"1\" class=\"dataframe\">\n",
       "  <thead>\n",
       "    <tr style=\"text-align: right;\">\n",
       "      <th></th>\n",
       "      <th>User_Id</th>\n",
       "      <th>Product_Id</th>\n",
       "      <th>Times_Bought</th>\n",
       "      <th>One_Shot_Ratio_Product</th>\n",
       "      <th>Times_In_Last_5</th>\n",
       "      <th>Times_In_Last_5_Ratio</th>\n",
       "      <th>Total_Orders</th>\n",
       "      <th>First_Ordered</th>\n",
       "      <th>Ordered_Range</th>\n",
       "      <th>Order_Ratio</th>\n",
       "      <th>Avg_Reordered</th>\n",
       "      <th>Avg_To_Cart</th>\n",
       "      <th>Avg_Order_Size</th>\n",
       "    </tr>\n",
       "  </thead>\n",
       "  <tbody>\n",
       "    <tr>\n",
       "      <th>842920</th>\n",
       "      <td>13241</td>\n",
       "      <td>26665.0</td>\n",
       "      <td>2</td>\n",
       "      <td>0.672848</td>\n",
       "      <td>0.0</td>\n",
       "      <td>0.0</td>\n",
       "      <td>51</td>\n",
       "      <td>30</td>\n",
       "      <td>22</td>\n",
       "      <td>0.090909</td>\n",
       "      <td>0.451308</td>\n",
       "      <td>9.572674</td>\n",
       "      <td>9.372549</td>\n",
       "    </tr>\n",
       "    <tr>\n",
       "      <th>2871568</th>\n",
       "      <td>44610</td>\n",
       "      <td>48094.0</td>\n",
       "      <td>1</td>\n",
       "      <td>0.698946</td>\n",
       "      <td>0.0</td>\n",
       "      <td>0.0</td>\n",
       "      <td>30</td>\n",
       "      <td>18</td>\n",
       "      <td>13</td>\n",
       "      <td>0.076923</td>\n",
       "      <td>0.437257</td>\n",
       "      <td>9.856348</td>\n",
       "      <td>20.400000</td>\n",
       "    </tr>\n",
       "  </tbody>\n",
       "</table>\n",
       "</div>"
      ],
      "text/plain": [
       "         User_Id  Product_Id  Times_Bought  One_Shot_Ratio_Product  \\\n",
       "842920     13241     26665.0             2                0.672848   \n",
       "2871568    44610     48094.0             1                0.698946   \n",
       "\n",
       "         Times_In_Last_5  Times_In_Last_5_Ratio  Total_Orders  First_Ordered  \\\n",
       "842920               0.0                    0.0            51             30   \n",
       "2871568              0.0                    0.0            30             18   \n",
       "\n",
       "         Ordered_Range  Order_Ratio  Avg_Reordered  Avg_To_Cart  \\\n",
       "842920              22     0.090909       0.451308     9.572674   \n",
       "2871568             13     0.076923       0.437257     9.856348   \n",
       "\n",
       "         Avg_Order_Size  \n",
       "842920         9.372549  \n",
       "2871568       20.400000  "
      ]
     },
     "execution_count": 62,
     "metadata": {},
     "output_type": "execute_result"
    }
   ],
   "source": [
    "# Show 2 random samples\n",
    "df.sample(2)"
   ]
  },
  {
   "cell_type": "code",
   "execution_count": 63,
   "metadata": {},
   "outputs": [],
   "source": [
    "# Divide main dataframe\n",
    "initial_row = 0\n",
    "df_size = 700000\n",
    "final_row = df_size\n",
    "i = 1\n",
    "\n",
    "while initial_row <= df.shape[0]:\n",
    "    df_pivot = df.loc[initial_row: final_row]\n",
    "    df_pivot.to_csv(f'../Data/Processed/df_{i}.csv', index=False)\n",
    "    initial_row = final_row\n",
    "    final_row += df_size\n",
    "    i += 1"
   ]
  }
 ],
 "metadata": {
  "kernelspec": {
   "display_name": "base",
   "language": "python",
   "name": "python3"
  },
  "language_info": {
   "codemirror_mode": {
    "name": "ipython",
    "version": 3
   },
   "file_extension": ".py",
   "mimetype": "text/x-python",
   "name": "python",
   "nbconvert_exporter": "python",
   "pygments_lexer": "ipython3",
   "version": "3.11.7"
  }
 },
 "nbformat": 4,
 "nbformat_minor": 2
}
